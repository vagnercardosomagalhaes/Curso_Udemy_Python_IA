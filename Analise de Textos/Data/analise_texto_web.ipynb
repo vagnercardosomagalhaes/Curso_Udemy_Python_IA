{
 "cells": [
  {
   "cell_type": "code",
   "execution_count": 22,
   "id": "e4f6a7d6",
   "metadata": {},
   "outputs": [
    {
     "name": "stderr",
     "output_type": "stream",
     "text": [
      "[nltk_data] Downloading package punkt to\n",
      "[nltk_data]     C:\\Users\\conta\\AppData\\Roaming\\nltk_data...\n",
      "[nltk_data]   Package punkt is already up-to-date!\n"
     ]
    }
   ],
   "source": [
    "import os\n",
    "import nltk\n",
    "nltk.download('punkt')\n",
    "from nltk.tokenize.punkt import PunktSentenceTokenizer, PunktTrainer\n",
    "from nltk.tokenize import word_tokenize\n",
    "from nltk.probability import FreqDist\n",
    "from nltk.corpus import stopwords\n",
    "from wordcloud import WordCloud, STOPWORDS\n",
    "import matplotlib.pyplot as plt\n",
    "import numpy as np\n",
    "from PIL import Image\n",
    "from goose3 import Goose"
   ]
  },
  {
   "cell_type": "code",
   "execution_count": 23,
   "id": "4cd67f58",
   "metadata": {},
   "outputs": [],
   "source": [
    "g = Goose()\n",
    "url = \"https://olhardigital.com.br/2025/06/03/carros-e-tecnologia/antes-de-lancar-seus-carros-autonomos-a-tesla-tem-algo-importante-a-definir/\"\n",
    "article = g.extract(url=url)\n",
    "\n",
    "\n"
   ]
  },
  {
   "cell_type": "code",
   "execution_count": 24,
   "id": "97681d34",
   "metadata": {},
   "outputs": [
    {
     "data": {
      "text/plain": [
       "'A Tesla entrou com novos pedidos de registro da marca “Tesla Robotaxi”, intensificando os preparativos para lançar seu serviço de veículos autônomos. As informações são do TechCrunch.\\n\\nA empresa já havia tentado registrar os termos genéricos “Robotaxi” e “Cybercab” em 2024, mas enfrentou obstáculos no Escritório de Patentes e Marcas dos EUA (USPTO), que solicitou mais detalhes e apontou conflitos com registros similares de outras empresas, como Waymo e várias companhias que usam o prefixo “Cyber”.\\n\\nTesla não deve conseguir registrar marca antes de iniciar testes\\n• Para evitar novos problemas, a Tesla optou por uma marca mais específica, visando proteger o nome do serviço, o aplicativo e os próprios veículos autônomos.\\n• A frota dos veículos deve começar a ser testada ainda este mês em Austin, no Texas.\\n• No entanto, os registros dificilmente estarão aprovados a tempo — o processo pode levar meses até ser analisado por um examinador.\\n• Tesla volta a ser alvo de protestos nos EUA (e no mundo)\\n• Tesla: protestos, queda nas vendas e mais uma má notícia\\n• Apoio de Trump não impede queda nas vendas da Tesla\\n\\nA montadora também tem pedidos pendentes para outras marcas, como “Robobus”, “Robus” e “Cyberbus”, ligadas a um futuro veículo elétrico tipo van. No lançamento do protótipo Cybercab, Elon Musk chegou a se referir ao modelo como “Robovan”, termo já registrado por outra empresa.\\n\\nTestes no Texas terão humanos no controle\\n\\nA montadora confirmou que, nos testes em Austin que começarão ainda este mês, o serviço dependerá de teleoperação remota para garantir a segurança.\\n\\nEngenheiros serão responsáveis por monitorar e, quando necessário, controlar os veículos à distância, usando uma interface que integra realidade virtual. Leia mais aqui.'"
      ]
     },
     "execution_count": 24,
     "metadata": {},
     "output_type": "execute_result"
    }
   ],
   "source": [
    "article.publish_date\n",
    "article.title\n",
    "article.cleaned_text\n",
    "\n"
   ]
  },
  {
   "cell_type": "code",
   "execution_count": 25,
   "id": "674f12ba",
   "metadata": {},
   "outputs": [
    {
     "data": {
      "text/plain": [
       "['https://olhardigital.com.br/tag/tesla/',\n",
       " 'https://techcrunch.com/2025/06/02/tesla-files-new-robotaxi-trademark-applications-after-prior-attempt-stalls/',\n",
       " 'https://olhardigital.com.br/2025/03/31/carros-e-tecnologia/tesla-volta-a-ser-alvo-de-protestos-nos-eua-e-no-mundo/',\n",
       " 'https://olhardigital.com.br/2025/03/24/carros-e-tecnologia/tesla-depois-dos-protestos-e-da-queda-nas-vendas-ha-mais-uma-ma-noticia/',\n",
       " 'https://olhardigital.com.br/2025/03/17/carros-e-tecnologia/apoio-de-trump-nao-impede-queda-nas-vendas-da-tesla/',\n",
       " 'https://olhardigital.com.br/2025/05/28/carros-e-tecnologia/tesla-inicia-testes-de-robotaxis-no-texas-mas-com-humanos-no-controle/']"
      ]
     },
     "execution_count": 25,
     "metadata": {},
     "output_type": "execute_result"
    }
   ],
   "source": [
    "article.links"
   ]
  },
  {
   "cell_type": "code",
   "execution_count": 28,
   "id": "75e14406",
   "metadata": {},
   "outputs": [
    {
     "name": "stderr",
     "output_type": "stream",
     "text": [
      "[nltk_data] Downloading package punkt_tab to\n",
      "[nltk_data]     C:\\Users\\conta\\AppData\\Roaming\\nltk_data...\n",
      "[nltk_data]   Unzipping tokenizers\\punkt_tab.zip.\n"
     ]
    },
    {
     "data": {
      "text/plain": [
       "['a',\n",
       " 'tesla',\n",
       " 'entrou',\n",
       " 'com',\n",
       " 'novos',\n",
       " 'pedidos',\n",
       " 'de',\n",
       " 'registro',\n",
       " 'da',\n",
       " 'marca',\n",
       " '“',\n",
       " 'tesla',\n",
       " 'robotaxi',\n",
       " '”',\n",
       " ',',\n",
       " 'intensificando',\n",
       " 'os',\n",
       " 'preparativos',\n",
       " 'para',\n",
       " 'lançar',\n",
       " 'seu',\n",
       " 'serviço',\n",
       " 'de',\n",
       " 'veículos',\n",
       " 'autônomos',\n",
       " '.',\n",
       " 'as',\n",
       " 'informações',\n",
       " 'são',\n",
       " 'do',\n",
       " 'techcrunch',\n",
       " '.',\n",
       " 'a',\n",
       " 'empresa',\n",
       " 'já',\n",
       " 'havia',\n",
       " 'tentado',\n",
       " 'registrar',\n",
       " 'os',\n",
       " 'termos',\n",
       " 'genéricos',\n",
       " '“',\n",
       " 'robotaxi',\n",
       " '”',\n",
       " 'e',\n",
       " '“',\n",
       " 'cybercab',\n",
       " '”',\n",
       " 'em',\n",
       " '2024',\n",
       " ',',\n",
       " 'mas',\n",
       " 'enfrentou',\n",
       " 'obstáculos',\n",
       " 'no',\n",
       " 'escritório',\n",
       " 'de',\n",
       " 'patentes',\n",
       " 'e',\n",
       " 'marcas',\n",
       " 'dos',\n",
       " 'eua',\n",
       " '(',\n",
       " 'uspto',\n",
       " ')',\n",
       " ',',\n",
       " 'que',\n",
       " 'solicitou',\n",
       " 'mais',\n",
       " 'detalhes',\n",
       " 'e',\n",
       " 'apontou',\n",
       " 'conflitos',\n",
       " 'com',\n",
       " 'registros',\n",
       " 'similares',\n",
       " 'de',\n",
       " 'outras',\n",
       " 'empresas',\n",
       " ',',\n",
       " 'como',\n",
       " 'waymo',\n",
       " 'e',\n",
       " 'várias',\n",
       " 'companhias',\n",
       " 'que',\n",
       " 'usam',\n",
       " 'o',\n",
       " 'prefixo',\n",
       " '“',\n",
       " 'cyber',\n",
       " '”',\n",
       " '.',\n",
       " 'tesla',\n",
       " 'não',\n",
       " 'deve',\n",
       " 'conseguir',\n",
       " 'registrar',\n",
       " 'marca',\n",
       " 'antes',\n",
       " 'de',\n",
       " 'iniciar',\n",
       " 'testes',\n",
       " '•',\n",
       " 'para',\n",
       " 'evitar',\n",
       " 'novos',\n",
       " 'problemas',\n",
       " ',',\n",
       " 'a',\n",
       " 'tesla',\n",
       " 'optou',\n",
       " 'por',\n",
       " 'uma',\n",
       " 'marca',\n",
       " 'mais',\n",
       " 'específica',\n",
       " ',',\n",
       " 'visando',\n",
       " 'proteger',\n",
       " 'o',\n",
       " 'nome',\n",
       " 'do',\n",
       " 'serviço',\n",
       " ',',\n",
       " 'o',\n",
       " 'aplicativo',\n",
       " 'e',\n",
       " 'os',\n",
       " 'próprios',\n",
       " 'veículos',\n",
       " 'autônomos',\n",
       " '.',\n",
       " '•',\n",
       " 'a',\n",
       " 'frota',\n",
       " 'dos',\n",
       " 'veículos',\n",
       " 'deve',\n",
       " 'começar',\n",
       " 'a',\n",
       " 'ser',\n",
       " 'testada',\n",
       " 'ainda',\n",
       " 'este',\n",
       " 'mês',\n",
       " 'em',\n",
       " 'austin',\n",
       " ',',\n",
       " 'no',\n",
       " 'texas',\n",
       " '.',\n",
       " '•',\n",
       " 'no',\n",
       " 'entanto',\n",
       " ',',\n",
       " 'os',\n",
       " 'registros',\n",
       " 'dificilmente',\n",
       " 'estarão',\n",
       " 'aprovados',\n",
       " 'a',\n",
       " 'tempo',\n",
       " '—',\n",
       " 'o',\n",
       " 'processo',\n",
       " 'pode',\n",
       " 'levar',\n",
       " 'meses',\n",
       " 'até',\n",
       " 'ser',\n",
       " 'analisado',\n",
       " 'por',\n",
       " 'um',\n",
       " 'examinador',\n",
       " '.',\n",
       " '•',\n",
       " 'tesla',\n",
       " 'volta',\n",
       " 'a',\n",
       " 'ser',\n",
       " 'alvo',\n",
       " 'de',\n",
       " 'protestos',\n",
       " 'nos',\n",
       " 'eua',\n",
       " '(',\n",
       " 'e',\n",
       " 'no',\n",
       " 'mundo',\n",
       " ')',\n",
       " '•',\n",
       " 'tesla',\n",
       " ':',\n",
       " 'protestos',\n",
       " ',',\n",
       " 'queda',\n",
       " 'nas',\n",
       " 'vendas',\n",
       " 'e',\n",
       " 'mais',\n",
       " 'uma',\n",
       " 'má',\n",
       " 'notícia',\n",
       " '•',\n",
       " 'apoio',\n",
       " 'de',\n",
       " 'trump',\n",
       " 'não',\n",
       " 'impede',\n",
       " 'queda',\n",
       " 'nas',\n",
       " 'vendas',\n",
       " 'da',\n",
       " 'tesla',\n",
       " 'a',\n",
       " 'montadora',\n",
       " 'também',\n",
       " 'tem',\n",
       " 'pedidos',\n",
       " 'pendentes',\n",
       " 'para',\n",
       " 'outras',\n",
       " 'marcas',\n",
       " ',',\n",
       " 'como',\n",
       " '“',\n",
       " 'robobus',\n",
       " '”',\n",
       " ',',\n",
       " '“',\n",
       " 'robus',\n",
       " '”',\n",
       " 'e',\n",
       " '“',\n",
       " 'cyberbus',\n",
       " '”',\n",
       " ',',\n",
       " 'ligadas',\n",
       " 'a',\n",
       " 'um',\n",
       " 'futuro',\n",
       " 'veículo',\n",
       " 'elétrico',\n",
       " 'tipo',\n",
       " 'van',\n",
       " '.',\n",
       " 'no',\n",
       " 'lançamento',\n",
       " 'do',\n",
       " 'protótipo',\n",
       " 'cybercab',\n",
       " ',',\n",
       " 'elon',\n",
       " 'musk',\n",
       " 'chegou',\n",
       " 'a',\n",
       " 'se',\n",
       " 'referir',\n",
       " 'ao',\n",
       " 'modelo',\n",
       " 'como',\n",
       " '“',\n",
       " 'robovan',\n",
       " '”',\n",
       " ',',\n",
       " 'termo',\n",
       " 'já',\n",
       " 'registrado',\n",
       " 'por',\n",
       " 'outra',\n",
       " 'empresa',\n",
       " '.',\n",
       " 'testes',\n",
       " 'no',\n",
       " 'texas',\n",
       " 'terão',\n",
       " 'humanos',\n",
       " 'no',\n",
       " 'controle',\n",
       " 'a',\n",
       " 'montadora',\n",
       " 'confirmou',\n",
       " 'que',\n",
       " ',',\n",
       " 'nos',\n",
       " 'testes',\n",
       " 'em',\n",
       " 'austin',\n",
       " 'que',\n",
       " 'começarão',\n",
       " 'ainda',\n",
       " 'este',\n",
       " 'mês',\n",
       " ',',\n",
       " 'o',\n",
       " 'serviço',\n",
       " 'dependerá',\n",
       " 'de',\n",
       " 'teleoperação',\n",
       " 'remota',\n",
       " 'para',\n",
       " 'garantir',\n",
       " 'a',\n",
       " 'segurança',\n",
       " '.',\n",
       " 'engenheiros',\n",
       " 'serão',\n",
       " 'responsáveis',\n",
       " 'por',\n",
       " 'monitorar',\n",
       " 'e',\n",
       " ',',\n",
       " 'quando',\n",
       " 'necessário',\n",
       " ',',\n",
       " 'controlar',\n",
       " 'os',\n",
       " 'veículos',\n",
       " 'à',\n",
       " 'distância',\n",
       " ',',\n",
       " 'usando',\n",
       " 'uma',\n",
       " 'interface',\n",
       " 'que',\n",
       " 'integra',\n",
       " 'realidade',\n",
       " 'virtual',\n",
       " '.',\n",
       " 'leia',\n",
       " 'mais',\n",
       " 'aqui',\n",
       " '.']"
      ]
     },
     "execution_count": 28,
     "metadata": {},
     "output_type": "execute_result"
    }
   ],
   "source": [
    "import nltk\n",
    "nltk.download('punkt_tab')\n",
    "\n",
    "word_tokens = word_tokenize(article.cleaned_text.lower())\n",
    "word_tokens\n"
   ]
  },
  {
   "cell_type": "code",
   "execution_count": 30,
   "id": "3fc97354",
   "metadata": {},
   "outputs": [
    {
     "data": {
      "text/plain": [
       "334"
      ]
     },
     "execution_count": 30,
     "metadata": {},
     "output_type": "execute_result"
    }
   ],
   "source": [
    "len(word_tokens)"
   ]
  },
  {
   "cell_type": "code",
   "execution_count": 31,
   "id": "7ea55183",
   "metadata": {},
   "outputs": [],
   "source": [
    "porttuguese_stops = set(stopwords.words('portuguese'))"
   ]
  },
  {
   "cell_type": "code",
   "execution_count": 32,
   "id": "442d3753",
   "metadata": {},
   "outputs": [],
   "source": [
    "palavras = [palavra for palavra in word_tokens if palavra.isalpha() and palavra not in porttuguese_stops]"
   ]
  },
  {
   "cell_type": "code",
   "execution_count": 33,
   "id": "6f2961d7",
   "metadata": {},
   "outputs": [
    {
     "data": {
      "text/plain": [
       "165"
      ]
     },
     "execution_count": 33,
     "metadata": {},
     "output_type": "execute_result"
    }
   ],
   "source": [
    "len(palavras)"
   ]
  },
  {
   "cell_type": "code",
   "execution_count": 34,
   "id": "3640ed8e",
   "metadata": {},
   "outputs": [
    {
     "data": {
      "text/plain": [
       "[('tesla', 7),\n",
       " ('veículos', 4),\n",
       " ('marca', 3),\n",
       " ('serviço', 3),\n",
       " ('testes', 3),\n",
       " ('novos', 2),\n",
       " ('pedidos', 2),\n",
       " ('robotaxi', 2),\n",
       " ('autônomos', 2),\n",
       " ('empresa', 2),\n",
       " ('registrar', 2),\n",
       " ('cybercab', 2),\n",
       " ('marcas', 2),\n",
       " ('eua', 2),\n",
       " ('registros', 2),\n",
       " ('outras', 2),\n",
       " ('deve', 2),\n",
       " ('ainda', 2),\n",
       " ('mês', 2),\n",
       " ('austin', 2)]"
      ]
     },
     "execution_count": 34,
     "metadata": {},
     "output_type": "execute_result"
    }
   ],
   "source": [
    "fdist = FreqDist(palavras)\n",
    "fdist.most_common(20)"
   ]
  },
  {
   "cell_type": "code",
   "execution_count": 37,
   "id": "a5072a68",
   "metadata": {},
   "outputs": [
    {
     "data": {
      "text/plain": [
       "165"
      ]
     },
     "execution_count": 37,
     "metadata": {},
     "output_type": "execute_result"
    }
   ],
   "source": [
    "novas_palavras = [palavra for palavra in palavras if palavra.isalnum()]\n",
    "len(novas_palavras)"
   ]
  },
  {
   "cell_type": "code",
   "execution_count": 39,
   "id": "00e4041e",
   "metadata": {},
   "outputs": [
    {
     "data": {
      "text/plain": [
       "<bound method Counter.most_common of FreqDist({'tesla': 7, 'veículos': 4, 'marca': 3, 'serviço': 3, 'testes': 3, 'novos': 2, 'pedidos': 2, 'robotaxi': 2, 'autônomos': 2, 'empresa': 2, ...})>"
      ]
     },
     "execution_count": 39,
     "metadata": {},
     "output_type": "execute_result"
    }
   ],
   "source": [
    "fdist2 = FreqDist(novas_palavras)\n",
    "fdist2.most_common"
   ]
  }
 ],
 "metadata": {
  "kernelspec": {
   "display_name": "Python 3",
   "language": "python",
   "name": "python3"
  },
  "language_info": {
   "codemirror_mode": {
    "name": "ipython",
    "version": 3
   },
   "file_extension": ".py",
   "mimetype": "text/x-python",
   "name": "python",
   "nbconvert_exporter": "python",
   "pygments_lexer": "ipython3",
   "version": "3.12.5"
  }
 },
 "nbformat": 4,
 "nbformat_minor": 5
}
