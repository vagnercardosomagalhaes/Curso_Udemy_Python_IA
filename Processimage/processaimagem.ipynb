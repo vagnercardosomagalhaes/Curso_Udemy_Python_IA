{
 "cells": [
  {
   "cell_type": "code",
   "execution_count": 1,
   "id": "86a8fbf1",
   "metadata": {},
   "outputs": [],
   "source": [
    "from PIL import Image, ImageEnhance, ImageFilter"
   ]
  },
  {
   "cell_type": "code",
   "execution_count": 8,
   "id": "6d2ae391",
   "metadata": {},
   "outputs": [],
   "source": [
    "try:\n",
    "    img1 = Image.open(r\"C:\\Dev\\Python com IA\\Processimage\\img\\img1.jpg\")\n",
    "    img1.show()\n",
    "except Exception as e:\n",
    "    print(f\"Erro ao abrir a imagem: {e}\")"
   ]
  },
  {
   "cell_type": "code",
   "execution_count": 12,
   "id": "c645c8db",
   "metadata": {},
   "outputs": [],
   "source": [
    "try:\n",
    "    img2 = Image.open(r\"C:\\Dev\\Python com IA\\Processimage\\img\\img2.jpg\")\n",
    "    img2.show()\n",
    "except Exception as e:\n",
    "    print(f\"Erro ao abrir a imagem: {e}\")"
   ]
  },
  {
   "cell_type": "code",
   "execution_count": 13,
   "id": "b34cf57a",
   "metadata": {},
   "outputs": [],
   "source": [
    "gray_img = img2.convert(\"L\")\n",
    "gray_img.show()"
   ]
  },
  {
   "cell_type": "code",
   "execution_count": 9,
   "id": "f78f2dbc",
   "metadata": {},
   "outputs": [],
   "source": [
    "gray_img = img1.convert(\"L\")\n",
    "gray_img.show()"
   ]
  },
  {
   "cell_type": "code",
   "execution_count": null,
   "id": "aceeebf0",
   "metadata": {},
   "outputs": [],
   "source": [
    "rotated_img = img1.rotate(90)\n",
    "rotated_img.show()\n"
   ]
  },
  {
   "cell_type": "code",
   "execution_count": 17,
   "id": "4c32905b",
   "metadata": {},
   "outputs": [],
   "source": [
    "transposed_img = img1.transpose(method=Image.FLIP_TOP_BOTTOM)\n",
    "transposed_img.show()"
   ]
  },
  {
   "cell_type": "code",
   "execution_count": 18,
   "id": "cbdbd628",
   "metadata": {},
   "outputs": [],
   "source": [
    "RESIZE = (300, 300)\n",
    "resized_img = img1.resize(RESIZE)\n",
    "resized_img.show()"
   ]
  },
  {
   "cell_type": "code",
   "execution_count": 22,
   "id": "a4e82c7c",
   "metadata": {},
   "outputs": [],
   "source": [
    "dim = (100, 100, 180,120)\n",
    "crop_img = img1.crop(dim)\n",
    "crop_img.show()"
   ]
  },
  {
   "cell_type": "code",
   "execution_count": 23,
   "id": "f8e3bd0d",
   "metadata": {},
   "outputs": [],
   "source": [
    "enhacer = ImageEnhance.Brightness(img1)\n",
    "enhanced_img = enhacer.enhance(1.5)\n",
    "enhanced_img.show()"
   ]
  },
  {
   "cell_type": "code",
   "execution_count": 24,
   "id": "cb24530f",
   "metadata": {},
   "outputs": [],
   "source": [
    "enhacer = ImageEnhance.Contrast(img1)\n",
    "enhanced_img = enhacer.enhance(2)\n",
    "enhanced_img.show()\n"
   ]
  },
  {
   "cell_type": "code",
   "execution_count": 26,
   "id": "e311d697",
   "metadata": {},
   "outputs": [],
   "source": [
    "enhacer = ImageEnhance.Color(img1)\n",
    "enhanced_img = enhacer.enhance(4)\n",
    "enhanced_img.show()"
   ]
  },
  {
   "cell_type": "code",
   "execution_count": 27,
   "id": "acc86839",
   "metadata": {},
   "outputs": [],
   "source": [
    "enhacer = ImageEnhance.Sharpness(img1)\n",
    "enhanced_img = enhacer.enhance(2)\n",
    "enhanced_img.show()"
   ]
  },
  {
   "cell_type": "code",
   "execution_count": 28,
   "id": "87155416",
   "metadata": {},
   "outputs": [],
   "source": [
    "filtro_bluer = img1.filter(ImageFilter.BLUR)\n",
    "filtro_bluer.show()"
   ]
  },
  {
   "cell_type": "code",
   "execution_count": 29,
   "id": "81867d77",
   "metadata": {},
   "outputs": [],
   "source": [
    "filtro_detail = img1.filter(ImageFilter.DETAIL)\n",
    "filtro_detail.show()"
   ]
  },
  {
   "cell_type": "code",
   "execution_count": 35,
   "id": "130e3aae",
   "metadata": {},
   "outputs": [],
   "source": [
    "from PIL import ImageDraw, ImageFont\n",
    "\n"
   ]
  },
  {
   "cell_type": "code",
   "execution_count": 36,
   "id": "03deead5",
   "metadata": {},
   "outputs": [],
   "source": [
    "\n",
    "text_img = img2.copy()\n",
    "draw = ImageDraw.Draw(text_img)\n",
    "font = ImageFont.load_default()\n",
    "draw.text((30, 30), \"Texto de exemplo na Imagem\", fill=\"black\", font=font)\n",
    "text_img.show()"
   ]
  }
 ],
 "metadata": {
  "kernelspec": {
   "display_name": "Python 3",
   "language": "python",
   "name": "python3"
  },
  "language_info": {
   "codemirror_mode": {
    "name": "ipython",
    "version": 3
   },
   "file_extension": ".py",
   "mimetype": "text/x-python",
   "name": "python",
   "nbconvert_exporter": "python",
   "pygments_lexer": "ipython3",
   "version": "3.12.5"
  }
 },
 "nbformat": 4,
 "nbformat_minor": 5
}
